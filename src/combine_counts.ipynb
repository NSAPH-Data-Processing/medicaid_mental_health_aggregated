{
 "cells": [
  {
   "cell_type": "code",
   "execution_count": 8,
   "id": "03661ce4-20f7-4279-b7d9-5f706617abbc",
   "metadata": {},
   "outputs": [],
   "source": [
    "import pandas as pd\n",
    "import glob\n",
    "import json"
   ]
  },
  {
   "cell_type": "code",
   "execution_count": 5,
   "id": "838b8b05-163d-42ef-869e-eb123c26a234",
   "metadata": {},
   "outputs": [],
   "source": [
    "def get_outcomes():\n",
    "    \"\"\" Get and return ICD codes \"\"\"\"\"\n",
    "    f = open('../icd_codes.json')\n",
    "    outcomes_ = json.load(f)\n",
    "    f.close()\n",
    "    return json.loads(outcomes_[0])"
   ]
  },
  {
   "cell_type": "code",
   "execution_count": 12,
   "id": "b78171f0-f5be-40bb-83fe-380890da7f8e",
   "metadata": {},
   "outputs": [],
   "source": [
    "diagnoses = get_outcomes()\n",
    "for key in diagnoses:\n",
    "    file_paths = glob.glob(f\"../data/{key}*.csv\")\n",
    "    dfs = []\n",
    "    for file in file_paths:\n",
    "        df = pd.read_csv(file)\n",
    "        df = df.iloc[:, -3:]\n",
    "        dfs.append(df)\n",
    "    combined_df = pd.concat(dfs, axis=0)\n",
    "    combined_df.to_csv(f\"../data/combined_data/{key}_counts.csv\")"
   ]
  },
  {
   "cell_type": "code",
   "execution_count": null,
   "id": "90033148-1fd3-4a8b-a231-95147f09e7f6",
   "metadata": {},
   "outputs": [],
   "source": []
  }
 ],
 "metadata": {
  "kernelspec": {
   "display_name": "Python [conda env:.conda-dorieh]",
   "language": "python",
   "name": "conda-env-.conda-dorieh-py"
  },
  "language_info": {
   "codemirror_mode": {
    "name": "ipython",
    "version": 3
   },
   "file_extension": ".py",
   "mimetype": "text/x-python",
   "name": "python",
   "nbconvert_exporter": "python",
   "pygments_lexer": "ipython3",
   "version": "3.10.8"
  }
 },
 "nbformat": 4,
 "nbformat_minor": 5
}
