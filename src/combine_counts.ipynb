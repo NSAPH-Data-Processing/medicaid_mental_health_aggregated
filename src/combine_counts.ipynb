{
 "cells": [
  {
   "cell_type": "code",
   "execution_count": 2,
   "id": "03661ce4-20f7-4279-b7d9-5f706617abbc",
   "metadata": {},
   "outputs": [],
   "source": [
    "import pandas as pd\n",
    "import glob\n",
    "import json\n",
    "from functools import reduce"
   ]
  },
  {
   "cell_type": "code",
   "execution_count": 3,
   "id": "838b8b05-163d-42ef-869e-eb123c26a234",
   "metadata": {},
   "outputs": [],
   "source": [
    "def get_outcomes():\n",
    "    \"\"\" Get and return ICD codes \"\"\"\"\"\n",
    "    f = open('../icd_codes.json')\n",
    "    outcomes_ = json.load(f)\n",
    "    f.close()\n",
    "    return json.loads(outcomes_[0])"
   ]
  },
  {
   "cell_type": "code",
   "execution_count": 8,
   "id": "b78171f0-f5be-40bb-83fe-380890da7f8e",
   "metadata": {},
   "outputs": [],
   "source": [
    "#make a data file for each conditiion type\n",
    "diagnoses = get_outcomes()\n",
    "total_df = []\n",
    "for key in diagnoses:\n",
    "    file_paths = glob.glob(f\"../data/state/{key}*.csv\")\n",
    "    dfs = []\n",
    "    for file in file_paths:\n",
    "        df = pd.read_csv(file)\n",
    "        df = df.iloc[:, -4:]\n",
    "        dfs.append(df)\n",
    "    combined_df = pd.concat(dfs, axis=0)\n",
    "    combined_df[f\"{key}_hospitalizations\"] = combined_df['hospitalizations']\n",
    "    combined_df = combined_df[['state','residence_county', 'admission_date', f\"{key}_hospitalizations\"]]\n",
    "    combined_df.dropna(subset=['state','residence_county', 'admission_date'], inplace=True)\n",
    "    total_df.append(combined_df)"
   ]
  },
  {
   "cell_type": "code",
   "execution_count": 9,
   "id": "50443563-7cd9-47e6-bbab-8e8efdb1864c",
   "metadata": {},
   "outputs": [
    {
     "name": "stdout",
     "output_type": "stream",
     "text": [
      "7683310\n",
      "518347\n",
      "2611726\n",
      "1214194\n",
      "1339902\n",
      "309681\n",
      "5394719\n",
      "1183582\n",
      "2696324\n",
      "2486528\n",
      "2735807\n",
      "783566\n",
      "1684440\n"
     ]
    }
   ],
   "source": [
    "for df in total_df:\n",
    "    print(df.shape[0])"
   ]
  },
  {
   "cell_type": "code",
   "execution_count": 10,
   "id": "fd8c6936-2dff-4fc6-b815-61adc76d2bad",
   "metadata": {},
   "outputs": [
    {
     "name": "stdout",
     "output_type": "stream",
     "text": [
      "(7683310, 16)\n"
     ]
    }
   ],
   "source": [
    "#make one large dataframe with all conditions\n",
    "merge_cols = [\"state\",\"residence_county\", \"admission_date\"]\n",
    "merged_df = reduce(lambda left, right: pd.merge(left, right, on=merge_cols, how=\"outer\"), total_df)\n",
    "merged_df['residence_county'] = merged_df['residence_county'].astype(int).astype(str).str.zfill(3)\n",
    "print(merged_df.shape) #this is the same as the number of rows in the mental_health query which serves as a check that our merge worked properly\n",
    "\n",
    "merged_df.to_csv(f\"../data/combined_data/all_categories_mental_health_counts_state.csv\")"
   ]
  }
 ],
 "metadata": {
  "kernelspec": {
   "display_name": "Python [conda env:.conda-dorieh]",
   "language": "python",
   "name": "conda-env-.conda-dorieh-py"
  },
  "language_info": {
   "codemirror_mode": {
    "name": "ipython",
    "version": 3
   },
   "file_extension": ".py",
   "mimetype": "text/x-python",
   "name": "python",
   "nbconvert_exporter": "python",
   "pygments_lexer": "ipython3",
   "version": "3.10.8"
  }
 },
 "nbformat": 4,
 "nbformat_minor": 5
}
