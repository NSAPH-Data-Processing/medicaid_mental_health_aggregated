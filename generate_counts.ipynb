{
 "cells": [
  {
   "cell_type": "code",
   "execution_count": 2,
   "id": "1b97d29d-5be7-4cd7-b000-cee3b3a6ebf2",
   "metadata": {},
   "outputs": [
    {
     "name": "stderr",
     "output_type": "stream",
     "text": [
      "/n/home_fasse/laurenflynn/.conda/envs/dorieh/lib/python3.10/site-packages/paramiko/transport.py:219: CryptographyDeprecationWarning: Blowfish has been deprecated\n",
      "  \"class\": algorithms.Blowfish,\n"
     ]
    }
   ],
   "source": [
    "## Load packages ----\n",
    "import numpy as np\n",
    "import pandas as pd\n",
    "import sshtunnel\n",
    "import psycopg2 as pg\n",
    "import os\n",
    "import seaborn as sns\n",
    "import matplotlib.pyplot as plt\n",
    "import json"
   ]
  },
  {
   "cell_type": "code",
   "execution_count": 22,
   "id": "c6a229b6-eb73-42f9-a8c0-1b9dd9a684db",
   "metadata": {},
   "outputs": [],
   "source": [
    "## Open ssh tunnel to DB host ----\n",
    "tunnel = sshtunnel.SSHTunnelForwarder(\n",
    "    ('nsaph.rc.fas.harvard.edu', 22),\n",
    "    ssh_username=f'{os.environ[\"MY_NSAPH_SSH_USERNAME\"]}',\n",
    "    ssh_private_key=f'{os.environ[\"HOME\"]}/.ssh/id_rsa', \n",
    "    ssh_password=f'{os.environ[\"MY_NSAPH_SSH_PASSWORD\"]}', \n",
    "    remote_bind_address=(\"localhost\", 5432)\n",
    ")\n",
    "\n",
    "tunnel.start()"
   ]
  },
  {
   "cell_type": "code",
   "execution_count": 23,
   "id": "f5538d80-b242-4461-85ab-278230a45afb",
   "metadata": {},
   "outputs": [],
   "source": [
    "## Open connection to DB ----\n",
    "connection = pg.connect(\n",
    "    host='localhost',\n",
    "    database='nsaph2',\n",
    "    user=f'{os.environ[\"MY_NSAPH_DB_USERNAME\"]}',\n",
    "    password=f'{os.environ[\"MY_NSAPH_DB_PASSWORD\"]}', \n",
    "    port=tunnel.local_bind_port\n",
    ")"
   ]
  },
  {
   "cell_type": "code",
   "execution_count": 25,
   "id": "7e1d6374-d96a-4fc5-b0b1-c050e73b3d7c",
   "metadata": {},
   "outputs": [],
   "source": [
    "def get_outcomes():\n",
    "    \"\"\" Get and return ICD codes \"\"\"\"\"\n",
    "    f = open('icd_codes.json')\n",
    "    outcomes_ = json.load(f)\n",
    "    f.close()\n",
    "    return json.loads(outcomes_[0])\n",
    "\n",
    "def get_counts_query(diagnoses):\n",
    "    \"\"\"\n",
    "    calculates the number of mental health hospitalizations per county per year\n",
    "    \"\"\"\n",
    "    sql_query = f\"\"\"\n",
    "    WITH d AS ( \n",
    "        SELECT DISTINCT\n",
    "            year, \n",
    "            bene_id\n",
    "        FROM \n",
    "            medicaid.admissions\n",
    "        WHERE \n",
    "            diagnosis::text[] && ARRAY{diagnoses}\n",
    "        ), \n",
    "        y AS (\n",
    "            SELECT DISTINCT residence_county, year \n",
    "            FROM medicaid.enrollments \n",
    "        )\n",
    "        SELECT \n",
    "            y.residence_county , y.year,\n",
    "            COALESCE(COUNT(d.bene_id), 0) AS n\n",
    "        FROM y \n",
    "        LEFT JOIN d\n",
    "        ON y.year = d.year\n",
    "        GROUP BY y.year, y.residence_county\n",
    "        \"\"\"\n",
    "    \n",
    "    \n",
    "    return sql_query"
   ]
  },
  {
   "cell_type": "code",
   "execution_count": null,
   "id": "99711892-367c-4c11-b9d0-2b2387f63c83",
   "metadata": {},
   "outputs": [],
   "source": [
    "diags = get_outcomes()\n",
    "mentalHealthDiagnosesICD9 = diags['mental_health']['icd9']\n",
    "mentalHealthDiagnosesICD10 = diags['mental_health']['icd10']\n",
    "mentalHealthDiagnoses = mentalHealthDiagnosesICD9 + mentalHealthDiagnosesICD10"
   ]
  },
  {
   "cell_type": "code",
   "execution_count": null,
   "id": "fe6e9262-71c0-4c3d-a6cc-6a1811fd1fc3",
   "metadata": {},
   "outputs": [],
   "source": [
    "#currently have medicaid data through 2012 so we will only use icd9\n",
    "\n",
    "sql_query= get_counts_query(mentalHealthDiagnosesICD9)\n",
    "data = pd.read_sql_query(sql_query, connection, index_col = 'bene_id').reset_index()"
   ]
  },
  {
   "cell_type": "code",
   "execution_count": 5,
   "id": "5ac97bbb-7802-4b76-9ccc-6c9fb1c8273c",
   "metadata": {},
   "outputs": [],
   "source": [
    "adjustmentReactionICD9 = diags['adjustment_reaction']['icd9']\n",
    "adjustmentReactionICD10 = diags['adjustment_reaction']['icd10']\n",
    "adjustmentReaction = adjustmentReactionICD9 + adjustmentReactionICD10"
   ]
  },
  {
   "cell_type": "code",
   "execution_count": 26,
   "id": "2a82ac53-fd56-4e0b-893a-c04a6f5fd9d2",
   "metadata": {},
   "outputs": [
    {
     "name": "stdout",
     "output_type": "stream",
     "text": [
      "\n",
      "    WITH d AS ( \n",
      "        SELECT DISTINCT\n",
      "            year, \n",
      "            bene_id\n",
      "        FROM \n",
      "            medicaid.admissions\n",
      "        WHERE \n",
      "            diagnosis::text[] && ARRAY['3090', '3091', '30922', '30923', '30924', '30928', '30929', '3093', '3094', '30982', '30983', '30989', '3099']\n",
      "        ), \n",
      "        y AS (\n",
      "            SELECT DISTINCT residence_county, year \n",
      "            FROM medicaid.enrollments \n",
      "        )\n",
      "        SELECT \n",
      "            y.residence_county , y.year,\n",
      "            COALESCE(COUNT(d.bene_id), 0) AS n\n",
      "        FROM y \n",
      "        LEFT JOIN d\n",
      "        ON y.year = d.year\n",
      "        GROUP BY y.year, y.residence_county\n",
      "        \n"
     ]
    }
   ],
   "source": [
    "#currently have medicaid data through 2012 so we will only use icd9\n",
    "\n",
    "sql_query= get_counts_query(adjustmentReactionICD9)\n",
    "print(sql_query)"
   ]
  },
  {
   "cell_type": "code",
   "execution_count": 27,
   "id": "bea99c12-bc07-4324-9db6-2ea43ed967e6",
   "metadata": {},
   "outputs": [
    {
     "ename": "KeyError",
     "evalue": "\"None of ['bene_id'] are in the columns\"",
     "output_type": "error",
     "traceback": [
      "\u001b[0;31m---------------------------------------------------------------------------\u001b[0m",
      "\u001b[0;31mKeyError\u001b[0m                                  Traceback (most recent call last)",
      "Cell \u001b[0;32mIn [27], line 1\u001b[0m\n\u001b[0;32m----> 1\u001b[0m data \u001b[38;5;241m=\u001b[39m \u001b[43mpd\u001b[49m\u001b[38;5;241;43m.\u001b[39;49m\u001b[43mread_sql_query\u001b[49m\u001b[43m(\u001b[49m\u001b[43msql_query\u001b[49m\u001b[43m,\u001b[49m\u001b[43m \u001b[49m\u001b[43mconnection\u001b[49m\u001b[43m,\u001b[49m\u001b[43m \u001b[49m\u001b[43mindex_col\u001b[49m\u001b[43m \u001b[49m\u001b[38;5;241;43m=\u001b[39;49m\u001b[43m \u001b[49m\u001b[38;5;124;43m'\u001b[39;49m\u001b[38;5;124;43mbene_id\u001b[39;49m\u001b[38;5;124;43m'\u001b[39;49m\u001b[43m)\u001b[49m\u001b[38;5;241m.\u001b[39mreset_index()\n",
      "File \u001b[0;32m~/.conda/envs/dorieh/lib/python3.10/site-packages/pandas/io/sql.py:397\u001b[0m, in \u001b[0;36mread_sql_query\u001b[0;34m(sql, con, index_col, coerce_float, params, parse_dates, chunksize, dtype)\u001b[0m\n\u001b[1;32m    339\u001b[0m \u001b[38;5;124;03m\"\"\"\u001b[39;00m\n\u001b[1;32m    340\u001b[0m \u001b[38;5;124;03mRead SQL query into a DataFrame.\u001b[39;00m\n\u001b[1;32m    341\u001b[0m \n\u001b[0;32m   (...)\u001b[0m\n\u001b[1;32m    394\u001b[0m \u001b[38;5;124;03mparameter will be converted to UTC.\u001b[39;00m\n\u001b[1;32m    395\u001b[0m \u001b[38;5;124;03m\"\"\"\u001b[39;00m\n\u001b[1;32m    396\u001b[0m pandas_sql \u001b[38;5;241m=\u001b[39m pandasSQL_builder(con)\n\u001b[0;32m--> 397\u001b[0m \u001b[38;5;28;01mreturn\u001b[39;00m \u001b[43mpandas_sql\u001b[49m\u001b[38;5;241;43m.\u001b[39;49m\u001b[43mread_query\u001b[49m\u001b[43m(\u001b[49m\n\u001b[1;32m    398\u001b[0m \u001b[43m    \u001b[49m\u001b[43msql\u001b[49m\u001b[43m,\u001b[49m\n\u001b[1;32m    399\u001b[0m \u001b[43m    \u001b[49m\u001b[43mindex_col\u001b[49m\u001b[38;5;241;43m=\u001b[39;49m\u001b[43mindex_col\u001b[49m\u001b[43m,\u001b[49m\n\u001b[1;32m    400\u001b[0m \u001b[43m    \u001b[49m\u001b[43mparams\u001b[49m\u001b[38;5;241;43m=\u001b[39;49m\u001b[43mparams\u001b[49m\u001b[43m,\u001b[49m\n\u001b[1;32m    401\u001b[0m \u001b[43m    \u001b[49m\u001b[43mcoerce_float\u001b[49m\u001b[38;5;241;43m=\u001b[39;49m\u001b[43mcoerce_float\u001b[49m\u001b[43m,\u001b[49m\n\u001b[1;32m    402\u001b[0m \u001b[43m    \u001b[49m\u001b[43mparse_dates\u001b[49m\u001b[38;5;241;43m=\u001b[39;49m\u001b[43mparse_dates\u001b[49m\u001b[43m,\u001b[49m\n\u001b[1;32m    403\u001b[0m \u001b[43m    \u001b[49m\u001b[43mchunksize\u001b[49m\u001b[38;5;241;43m=\u001b[39;49m\u001b[43mchunksize\u001b[49m\u001b[43m,\u001b[49m\n\u001b[1;32m    404\u001b[0m \u001b[43m    \u001b[49m\u001b[43mdtype\u001b[49m\u001b[38;5;241;43m=\u001b[39;49m\u001b[43mdtype\u001b[49m\u001b[43m,\u001b[49m\n\u001b[1;32m    405\u001b[0m \u001b[43m\u001b[49m\u001b[43m)\u001b[49m\n",
      "File \u001b[0;32m~/.conda/envs/dorieh/lib/python3.10/site-packages/pandas/io/sql.py:2095\u001b[0m, in \u001b[0;36mSQLiteDatabase.read_query\u001b[0;34m(self, sql, index_col, coerce_float, params, parse_dates, chunksize, dtype)\u001b[0m\n\u001b[1;32m   2092\u001b[0m data \u001b[38;5;241m=\u001b[39m \u001b[38;5;28mself\u001b[39m\u001b[38;5;241m.\u001b[39m_fetchall_as_list(cursor)\n\u001b[1;32m   2093\u001b[0m cursor\u001b[38;5;241m.\u001b[39mclose()\n\u001b[0;32m-> 2095\u001b[0m frame \u001b[38;5;241m=\u001b[39m \u001b[43m_wrap_result\u001b[49m\u001b[43m(\u001b[49m\n\u001b[1;32m   2096\u001b[0m \u001b[43m    \u001b[49m\u001b[43mdata\u001b[49m\u001b[43m,\u001b[49m\n\u001b[1;32m   2097\u001b[0m \u001b[43m    \u001b[49m\u001b[43mcolumns\u001b[49m\u001b[43m,\u001b[49m\n\u001b[1;32m   2098\u001b[0m \u001b[43m    \u001b[49m\u001b[43mindex_col\u001b[49m\u001b[38;5;241;43m=\u001b[39;49m\u001b[43mindex_col\u001b[49m\u001b[43m,\u001b[49m\n\u001b[1;32m   2099\u001b[0m \u001b[43m    \u001b[49m\u001b[43mcoerce_float\u001b[49m\u001b[38;5;241;43m=\u001b[39;49m\u001b[43mcoerce_float\u001b[49m\u001b[43m,\u001b[49m\n\u001b[1;32m   2100\u001b[0m \u001b[43m    \u001b[49m\u001b[43mparse_dates\u001b[49m\u001b[38;5;241;43m=\u001b[39;49m\u001b[43mparse_dates\u001b[49m\u001b[43m,\u001b[49m\n\u001b[1;32m   2101\u001b[0m \u001b[43m    \u001b[49m\u001b[43mdtype\u001b[49m\u001b[38;5;241;43m=\u001b[39;49m\u001b[43mdtype\u001b[49m\u001b[43m,\u001b[49m\n\u001b[1;32m   2102\u001b[0m \u001b[43m\u001b[49m\u001b[43m)\u001b[49m\n\u001b[1;32m   2103\u001b[0m \u001b[38;5;28;01mreturn\u001b[39;00m frame\n",
      "File \u001b[0;32m~/.conda/envs/dorieh/lib/python3.10/site-packages/pandas/io/sql.py:154\u001b[0m, in \u001b[0;36m_wrap_result\u001b[0;34m(data, columns, index_col, coerce_float, parse_dates, dtype)\u001b[0m\n\u001b[1;32m    151\u001b[0m frame \u001b[38;5;241m=\u001b[39m _parse_date_columns(frame, parse_dates)\n\u001b[1;32m    153\u001b[0m \u001b[38;5;28;01mif\u001b[39;00m index_col \u001b[38;5;129;01mis\u001b[39;00m \u001b[38;5;129;01mnot\u001b[39;00m \u001b[38;5;28;01mNone\u001b[39;00m:\n\u001b[0;32m--> 154\u001b[0m     \u001b[43mframe\u001b[49m\u001b[38;5;241;43m.\u001b[39;49m\u001b[43mset_index\u001b[49m\u001b[43m(\u001b[49m\u001b[43mindex_col\u001b[49m\u001b[43m,\u001b[49m\u001b[43m \u001b[49m\u001b[43minplace\u001b[49m\u001b[38;5;241;43m=\u001b[39;49m\u001b[38;5;28;43;01mTrue\u001b[39;49;00m\u001b[43m)\u001b[49m\n\u001b[1;32m    156\u001b[0m \u001b[38;5;28;01mreturn\u001b[39;00m frame\n",
      "File \u001b[0;32m~/.conda/envs/dorieh/lib/python3.10/site-packages/pandas/util/_decorators.py:331\u001b[0m, in \u001b[0;36mdeprecate_nonkeyword_arguments.<locals>.decorate.<locals>.wrapper\u001b[0;34m(*args, **kwargs)\u001b[0m\n\u001b[1;32m    325\u001b[0m \u001b[38;5;28;01mif\u001b[39;00m \u001b[38;5;28mlen\u001b[39m(args) \u001b[38;5;241m>\u001b[39m num_allow_args:\n\u001b[1;32m    326\u001b[0m     warnings\u001b[38;5;241m.\u001b[39mwarn(\n\u001b[1;32m    327\u001b[0m         msg\u001b[38;5;241m.\u001b[39mformat(arguments\u001b[38;5;241m=\u001b[39m_format_argument_list(allow_args)),\n\u001b[1;32m    328\u001b[0m         \u001b[38;5;167;01mFutureWarning\u001b[39;00m,\n\u001b[1;32m    329\u001b[0m         stacklevel\u001b[38;5;241m=\u001b[39mfind_stack_level(),\n\u001b[1;32m    330\u001b[0m     )\n\u001b[0;32m--> 331\u001b[0m \u001b[38;5;28;01mreturn\u001b[39;00m \u001b[43mfunc\u001b[49m\u001b[43m(\u001b[49m\u001b[38;5;241;43m*\u001b[39;49m\u001b[43margs\u001b[49m\u001b[43m,\u001b[49m\u001b[43m \u001b[49m\u001b[38;5;241;43m*\u001b[39;49m\u001b[38;5;241;43m*\u001b[39;49m\u001b[43mkwargs\u001b[49m\u001b[43m)\u001b[49m\n",
      "File \u001b[0;32m~/.conda/envs/dorieh/lib/python3.10/site-packages/pandas/core/frame.py:6001\u001b[0m, in \u001b[0;36mDataFrame.set_index\u001b[0;34m(self, keys, drop, append, inplace, verify_integrity)\u001b[0m\n\u001b[1;32m   5998\u001b[0m                 missing\u001b[38;5;241m.\u001b[39mappend(col)\n\u001b[1;32m   6000\u001b[0m \u001b[38;5;28;01mif\u001b[39;00m missing:\n\u001b[0;32m-> 6001\u001b[0m     \u001b[38;5;28;01mraise\u001b[39;00m \u001b[38;5;167;01mKeyError\u001b[39;00m(\u001b[38;5;124mf\u001b[39m\u001b[38;5;124m\"\u001b[39m\u001b[38;5;124mNone of \u001b[39m\u001b[38;5;132;01m{\u001b[39;00mmissing\u001b[38;5;132;01m}\u001b[39;00m\u001b[38;5;124m are in the columns\u001b[39m\u001b[38;5;124m\"\u001b[39m)\n\u001b[1;32m   6003\u001b[0m \u001b[38;5;28;01mif\u001b[39;00m inplace:\n\u001b[1;32m   6004\u001b[0m     frame \u001b[38;5;241m=\u001b[39m \u001b[38;5;28mself\u001b[39m\n",
      "\u001b[0;31mKeyError\u001b[0m: \"None of ['bene_id'] are in the columns\""
     ]
    }
   ],
   "source": [
    "data = pd.read_sql_query(sql_query, connection, index_col = 'bene_id').reset_index()"
   ]
  },
  {
   "cell_type": "code",
   "execution_count": null,
   "id": "59eed9b9-1946-45af-a49a-fde253f5c67c",
   "metadata": {},
   "outputs": [],
   "source": [
    "print(data.head())"
   ]
  },
  {
   "cell_type": "code",
   "execution_count": 6,
   "id": "e63d64eb-4a2d-4bad-96d6-c6751fceffdc",
   "metadata": {},
   "outputs": [],
   "source": [
    "anxietyDisordersICD9 = diags['anxiety_disorders']['icd9']\n",
    "anxietyDisordersICD10 = diags['anxiety_disorders']['icd10']\n",
    "anxietyDisorders = anxietyDisordersICD9 + anxietyDisordersICD10"
   ]
  },
  {
   "cell_type": "code",
   "execution_count": 7,
   "id": "ba427073-6194-4fc6-8a91-5ae13729703c",
   "metadata": {},
   "outputs": [],
   "source": [
    "attentionDisordersICD9 = diags['attention_disorders']['icd9']\n",
    "attentionDisordersICD10 = diags['attention_disorders']['icd10']\n",
    "attentionDisorders = attentionDisordersICD9 + attentionDisordersICD10"
   ]
  },
  {
   "cell_type": "code",
   "execution_count": 8,
   "id": "4cebc69e-3c48-4835-89bc-d567ac6ae960",
   "metadata": {},
   "outputs": [],
   "source": [
    "developmentalDisordersICD9 = diags['developmental_disorders']['icd9']\n",
    "developmentalDisordersICD10 = diags['developmental_disorders']['icd10']\n",
    "developmentalDisorders = developmentalDisordersICD9 + developmentalDisordersICD10"
   ]
  },
  {
   "cell_type": "code",
   "execution_count": 9,
   "id": "c7f0dd03-a209-46e5-b73f-a951937afbfa",
   "metadata": {},
   "outputs": [],
   "source": [
    "infancyChildhoodDisordersICD9 = diags['infancy_childhood_disorders']['icd9']\n",
    "infancyChildhoodDisordersICD10 = diags['infancy_childhood_disorders']['icd10']\n",
    "infancyChildhoodDisorders = infancyChildhoodDisordersICD9 + infancyChildhoodDisordersICD10"
   ]
  },
  {
   "cell_type": "code",
   "execution_count": 11,
   "id": "7c58685d-fcd4-4861-8bb6-7ccec2c779a4",
   "metadata": {},
   "outputs": [],
   "source": [
    "moodDisordersICD9 = diags['mood_disorders']['icd9']\n",
    "moodDisordersICD10 = diags['mood_disorders']['icd10']\n",
    "moodDisorders = moodDisordersICD9 + moodDisordersICD10"
   ]
  },
  {
   "cell_type": "code",
   "execution_count": 12,
   "id": "2a2c2553-f746-46c9-8d00-9c00da4b4853",
   "metadata": {},
   "outputs": [],
   "source": [
    "personalityDisordersICD9 = diags['personality_disorders']['icd9']\n",
    "personalityDisordersICD10 = diags['personality_disorders']['icd10']\n",
    "personalityDisorders = personalityDisordersICD9 + personalityDisordersICD10"
   ]
  },
  {
   "cell_type": "code",
   "execution_count": 13,
   "id": "65b76c68-021a-4d0d-87c2-9b618037ce30",
   "metadata": {},
   "outputs": [],
   "source": [
    "schizophreniaPsychoticDisordersICD9 = diags['schizophrenia_psychotic_disorders']['icd9']\n",
    "schizophreniaPsychoticDisordersICD10 = diags['schizophrenia_psychotic_disorders']['icd10']\n",
    "schizophreniaPsychoticDisorders = schizophreniaPsychoticDisordersICD9 + schizophreniaPsychoticDisordersICD10"
   ]
  },
  {
   "cell_type": "code",
   "execution_count": 14,
   "id": "ab4fc742-2790-42d3-bd06-06aeff574de6",
   "metadata": {},
   "outputs": [],
   "source": [
    "alcoholDisordersICD9 = diags['alcohol_disorders']['icd9']\n",
    "alcoholDisordersICD10 = diags['alcohol_disorders']['icd10']\n",
    "alcoholDisorders = alcoholDisordersICD9 + alcoholDisordersICD10"
   ]
  },
  {
   "cell_type": "code",
   "execution_count": 15,
   "id": "d0259d22-ccb9-4706-bf45-d19ea994d439",
   "metadata": {},
   "outputs": [],
   "source": [
    "substanceDisordersICD9 = diags['substance_disorders']['icd9']\n",
    "substanceDisordersICD10 = diags['substance_disorders']['icd10']\n",
    "substanceDisorders = substanceDisordersICD9 + substanceDisordersICD10"
   ]
  },
  {
   "cell_type": "code",
   "execution_count": 16,
   "id": "47eaff66-9823-48ea-895b-ab5f29c7d826",
   "metadata": {},
   "outputs": [],
   "source": [
    "suicideSelfHarmICD9 = diags['suicide_self_harm']['icd9']\n",
    "suicideSelfHarmICD10 = diags['suicide_self_harm']['icd10']\n",
    "suicideSelfHarm = suicideSelfHarmICD9 + suicideSelfHarmICD10"
   ]
  },
  {
   "cell_type": "code",
   "execution_count": 17,
   "id": "ecd3663e-6cdd-4c1d-a603-df3b4d9409d1",
   "metadata": {},
   "outputs": [],
   "source": [
    "miscDisordersICD9 = diags['misc_disorders']['icd9']\n",
    "miscDisordersICD10 = diags['misc_disorders']['icd10']\n",
    "miscDisorders = miscDisordersICD9 + miscDisordersICD10"
   ]
  },
  {
   "cell_type": "code",
   "execution_count": null,
   "id": "ef20174a-1e76-434d-b750-9060437cac49",
   "metadata": {},
   "outputs": [],
   "source": [
    "#currently have medicaid data through 2012 so we will only use icd9\n",
    "\n",
    "sql_query= get_counts_query(diags1)\n",
    "data = pd.read_sql_query(sql_query, connection, index_col = 'bene_id').reset_index()"
   ]
  },
  {
   "cell_type": "code",
   "execution_count": null,
   "id": "b4cbf2f4-c572-47e3-9528-8bc4e171d29b",
   "metadata": {},
   "outputs": [],
   "source": [
    "print(diags1)"
   ]
  },
  {
   "cell_type": "code",
   "execution_count": null,
   "id": "5431761b-c755-4b38-ac68-9db70fb8dd29",
   "metadata": {},
   "outputs": [],
   "source": []
  }
 ],
 "metadata": {
  "kernelspec": {
   "display_name": "Python [conda env:.conda-dorieh]",
   "language": "python",
   "name": "conda-env-.conda-dorieh-py"
  },
  "language_info": {
   "codemirror_mode": {
    "name": "ipython",
    "version": 3
   },
   "file_extension": ".py",
   "mimetype": "text/x-python",
   "name": "python",
   "nbconvert_exporter": "python",
   "pygments_lexer": "ipython3",
   "version": "3.10.8"
  }
 },
 "nbformat": 4,
 "nbformat_minor": 5
}
