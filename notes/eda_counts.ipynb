{
 "cells": [
  {
   "cell_type": "code",
   "execution_count": 1,
   "id": "03661ce4-20f7-4279-b7d9-5f706617abbc",
   "metadata": {},
   "outputs": [],
   "source": [
    "import pandas as pd"
   ]
  },
  {
   "cell_type": "code",
   "execution_count": 12,
   "id": "5cfbf5ad",
   "metadata": {},
   "outputs": [
    {
     "data": {
      "text/plain": [
       "Index(['year', 'month', 'state', 'residence_county', 'sex', 'race',\n",
       "       'age_group', 'mental_health_hospitalizations',\n",
       "       'adjustment_reaction_hospitalizations',\n",
       "       'anxiety_disorders_hospitalizations',\n",
       "       'attention_disorders_hospitalizations',\n",
       "       'developmental_disorders_hospitalizations',\n",
       "       'infancy_childhood_disorders_hospitalizations',\n",
       "       'mood_disorders_hospitalizations',\n",
       "       'personality_disorders_hospitalizations',\n",
       "       'schizophrenia_psychotic_disorders_hospitalizations',\n",
       "       'alcohol_disorders_hospitalizations',\n",
       "       'substance_disorders_hospitalizations',\n",
       "       'suicide_self_harm_hospitalizations',\n",
       "       'misc_disorders_hospitalizations'],\n",
       "      dtype='object')"
      ]
     },
     "execution_count": 12,
     "metadata": {},
     "output_type": "execute_result"
    }
   ],
   "source": [
    "df = pd.read_csv(f\"../data/output/medicaid_mental_health/mental_health_hospitalizations_2000.csv\")\n",
    "df.columns"
   ]
  },
  {
   "cell_type": "code",
   "execution_count": 16,
   "id": "a9914355",
   "metadata": {},
   "outputs": [
    {
     "name": "stdout",
     "output_type": "stream",
     "text": [
      "1999\n",
      "size of df:  (921234, 21)\n",
      "df.memory_usage() in GB:  0.297209088\n",
      "unique counties:  3053\n",
      "unique race:  [5 9 4 3 1 2 6]\n",
      "unique sex:  ['F' 'M' 'U']\n",
      "unique age_group:  ['0-18' '19-24' '25-34' '35-44' '45-54' '55-64' '65-74' '75-84' '85+' nan]\n",
      "2000\n",
      "size of df:  (979217, 21)\n",
      "df.memory_usage() in GB:  0.315927545\n",
      "unique counties:  3146\n",
      "unique race:  [1 2 3 9 4 5 6 8 7]\n",
      "unique sex:  ['F' 'M' 'U']\n",
      "unique age_group:  ['25-34' '0-18' '19-24' '45-54' '35-44' '55-64' '65-74' '75-84' '85+' nan]\n",
      "2001\n",
      "size of df:  (956194, 21)\n",
      "df.memory_usage() in GB:  0.308511196\n",
      "unique counties:  2987\n",
      "unique race:  [1 9 3 4 5 2 6 7 8]\n",
      "unique sex:  ['F' 'M' 'U']\n",
      "unique age_group:  ['25-34' '35-44' '0-18' '19-24' '75-84' '45-54' '55-64' '65-74' '85+' nan]\n",
      "2002\n",
      "size of df:  (990901, 21)\n",
      "df.memory_usage() in GB:  0.3197156\n",
      "unique counties:  2993\n",
      "unique race:  [1 9 2 3 5 4 6 7 8]\n",
      "unique sex:  ['F' 'M' 'U']\n",
      "unique age_group:  ['25-34' '19-24' '35-44' '0-18' '45-54' '55-64' '65-74' '75-84' '85+' nan]\n",
      "2003\n",
      "size of df:  (1067861, 21)\n",
      "df.memory_usage() in GB:  0.34455211\n",
      "unique counties:  3155\n",
      "unique race:  [1 3 9 5 2 4 6 8 7]\n",
      "unique sex:  ['F' 'M' 'U']\n",
      "unique age_group:  ['19-24' '45-54' '55-64' '0-18' '65-74' '25-34' '35-44' '75-84' '85+' nan]\n",
      "2004\n",
      "size of df:  (1053684, 21)\n",
      "df.memory_usage() in GB:  0.339980987\n",
      "unique counties:  3150\n",
      "unique race:  [1 2 3 4 5 6 9 7 8]\n",
      "unique sex:  ['F' 'M' 'U']\n",
      "unique age_group:  ['25-34' '19-24' '0-18' '65-74' '35-44' '45-54' '55-64' '75-84' '85+' nan]\n",
      "2005\n",
      "size of df:  (1051185, 21)\n",
      "df.memory_usage() in GB:  0.339176552\n",
      "unique counties:  3152\n",
      "unique race:  [1 2 9 3 4 5 6 7 8]\n",
      "unique sex:  ['F' 'M' 'U']\n",
      "unique age_group:  ['0-18' '19-24' '25-34' '55-64' '35-44' '45-54' '65-74' '75-84' '85+' nan]\n",
      "2006\n",
      "size of df:  (1051585, 21)\n",
      "df.memory_usage() in GB:  0.339314956\n",
      "unique counties:  3151\n",
      "unique race:  [1 9 3 2 4 5 6 7 8]\n",
      "unique sex:  ['F' 'M' 'U']\n",
      "unique age_group:  ['0-18' '19-24' '25-34' '55-64' '35-44' '45-54' '65-74' '75-84' '85+' nan]\n",
      "2007\n",
      "size of df:  (1033712, 21)\n",
      "df.memory_usage() in GB:  0.333555247\n",
      "unique counties:  3150\n",
      "unique race:  [1 2 9 3 4 5 6 7 8]\n",
      "unique sex:  ['F' 'M' 'U']\n",
      "unique age_group:  ['0-18' '19-24' '55-64' '45-54' '25-34' '35-44' '65-74' '75-84' '85+' nan]\n",
      "2008\n",
      "size of df:  (1037702, 21)\n",
      "df.memory_usage() in GB:  0.334841183\n",
      "unique counties:  3147\n",
      "unique race:  [1 3 9 2 4 5 6 7 8 0]\n",
      "unique sex:  ['F' 'M' 'U' nan]\n",
      "unique age_group:  ['25-34' '45-54' '19-24' '0-18' '55-64' '65-74' '35-44' '75-84' '85+' nan]\n",
      "2009\n",
      "size of df:  (1053254, 21)\n",
      "df.memory_usage() in GB:  0.339864365\n",
      "unique counties:  3155\n",
      "unique race:  [1 5 9 3 2 4 6 7 8 0]\n",
      "unique sex:  ['F' 'M' 'U' nan]\n",
      "unique age_group:  ['0-18' '55-64' '25-34' '35-44' '19-24' '45-54' '65-74' '75-84' '85+' nan]\n",
      "2010\n",
      "size of df:  (1023601, 21)\n",
      "df.memory_usage() in GB:  0.330293669\n",
      "unique counties:  3145\n",
      "unique race:  [1 9 2 3 4 5 6 7 8]\n",
      "unique sex:  ['F' 'M' 'U']\n",
      "unique age_group:  ['25-34' '35-44' '19-24' '0-18' '55-64' '45-54' '65-74' '75-84' '85+' nan]\n",
      "2011\n",
      "size of df:  (1058249, 21)\n",
      "df.memory_usage() in GB:  0.341477435\n",
      "unique counties:  3157\n",
      "unique race:  [1 2 3 9 4 5 6 7 8]\n",
      "unique sex:  ['F' 'M' 'U']\n",
      "unique age_group:  ['0-18' '19-24' '55-64' '25-34' '65-74' '75-84' '35-44' '45-54' '85+' nan]\n",
      "2012\n",
      "size of df:  (1074021, 21)\n",
      "df.memory_usage() in GB:  0.346578033\n",
      "unique counties:  3155\n",
      "unique race:  [1 2 3 9 4 5 6 7 8 0]\n",
      "unique sex:  ['F' 'M' 'U']\n",
      "unique age_group:  ['0-18' '45-54' '25-34' '35-44' '19-24' '65-74' '55-64' '75-84' '85+' nan]\n"
     ]
    }
   ],
   "source": [
    "for y_ in range(1999, 2013):\n",
    "    print(y_)\n",
    "    df = pd.read_csv(f\"../data/output/medicaid_mental_health/mental_health_hospitalizations_{y_}.csv\")\n",
    "    # print description of df\n",
    "    print(\"size of df: \", df.shape)\n",
    "    # print memory used by df in GB\n",
    "    print(\"df.memory_usage() in GB: \", df.memory_usage(deep=True).sum()/ 1e9) \n",
    "    # print unique counties\n",
    "    print(\"unique counties: \", df[\"residence_county\"].nunique())\n",
    "    # print unique race\n",
    "    print(\"unique race: \", df[\"race\"].unique())\n",
    "    # print unique sex\n",
    "    print(\"unique sex: \", df[\"sex\"].unique())\n",
    "    # print unique age_group\n",
    "    print(\"unique age_group: \", df[\"age_group\"].unique())\n"
   ]
  }
 ],
 "metadata": {
  "kernelspec": {
   "display_name": "Python 3.9.12 ('medicare_QC')",
   "language": "python",
   "name": "python3"
  },
  "language_info": {
   "codemirror_mode": {
    "name": "ipython",
    "version": 3
   },
   "file_extension": ".py",
   "mimetype": "text/x-python",
   "name": "python",
   "nbconvert_exporter": "python",
   "pygments_lexer": "ipython3",
   "version": "3.10.12"
  },
  "vscode": {
   "interpreter": {
    "hash": "981eca662598f17faf7839a0c8dd29c517f1f8aa39752a2a0daf6724b2a3c2ea"
   }
  }
 },
 "nbformat": 4,
 "nbformat_minor": 5
}
